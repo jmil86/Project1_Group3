{
 "cells": [
  {
   "cell_type": "code",
   "execution_count": 2,
   "metadata": {},
   "outputs": [
    {
     "data": {
      "text/html": [
       "<div>\n",
       "<style scoped>\n",
       "    .dataframe tbody tr th:only-of-type {\n",
       "        vertical-align: middle;\n",
       "    }\n",
       "\n",
       "    .dataframe tbody tr th {\n",
       "        vertical-align: top;\n",
       "    }\n",
       "\n",
       "    .dataframe thead th {\n",
       "        text-align: right;\n",
       "    }\n",
       "</style>\n",
       "<table border=\"1\" class=\"dataframe\">\n",
       "  <thead>\n",
       "    <tr style=\"text-align: right;\">\n",
       "      <th></th>\n",
       "      <th>INC NUMBER</th>\n",
       "      <th>OCCURRED ON</th>\n",
       "      <th>OCCURRED TO</th>\n",
       "      <th>UCR CRIME CATEGORY</th>\n",
       "      <th>100 BLOCK ADDR</th>\n",
       "      <th>ZIP</th>\n",
       "      <th>PREMISE TYPE</th>\n",
       "      <th>GRID</th>\n",
       "    </tr>\n",
       "  </thead>\n",
       "  <tbody>\n",
       "    <tr>\n",
       "      <th>0</th>\n",
       "      <td>201700001603695</td>\n",
       "      <td>11/01/2015  00:00</td>\n",
       "      <td>03/31/2016  00:00</td>\n",
       "      <td>RAPE</td>\n",
       "      <td>38XX W CAMELBACK RD</td>\n",
       "      <td>85019</td>\n",
       "      <td>HOSPITAL</td>\n",
       "      <td>BI20</td>\n",
       "    </tr>\n",
       "    <tr>\n",
       "      <th>1</th>\n",
       "      <td>201700001722914</td>\n",
       "      <td>11/01/2015  00:00</td>\n",
       "      <td>NaN</td>\n",
       "      <td>LARCENY-THEFT</td>\n",
       "      <td>279XX N 23RD LN</td>\n",
       "      <td>85085</td>\n",
       "      <td>SINGLE FAMILY HOUSE</td>\n",
       "      <td>FA23</td>\n",
       "    </tr>\n",
       "    <tr>\n",
       "      <th>2</th>\n",
       "      <td>201500002168686</td>\n",
       "      <td>11/01/2015  00:00</td>\n",
       "      <td>11/11/2015  09:30</td>\n",
       "      <td>LARCENY-THEFT</td>\n",
       "      <td>14XX E HIGHLAND AVE</td>\n",
       "      <td>85014</td>\n",
       "      <td>PARKING LOT</td>\n",
       "      <td>BI30</td>\n",
       "    </tr>\n",
       "    <tr>\n",
       "      <th>3</th>\n",
       "      <td>201600000527709</td>\n",
       "      <td>11/01/2015  00:00</td>\n",
       "      <td>03/22/2016  00:36</td>\n",
       "      <td>LARCENY-THEFT</td>\n",
       "      <td>33XX W CAMELBACK RD</td>\n",
       "      <td>85017</td>\n",
       "      <td>PARKING LOT</td>\n",
       "      <td>BJ21</td>\n",
       "    </tr>\n",
       "    <tr>\n",
       "      <th>4</th>\n",
       "      <td>201600000052855</td>\n",
       "      <td>11/01/2015  00:00</td>\n",
       "      <td>01/09/2016  00:00</td>\n",
       "      <td>MOTOR VEHICLE THEFT</td>\n",
       "      <td>N 43RD AVE &amp; W CACTUS RD</td>\n",
       "      <td>85029</td>\n",
       "      <td>SINGLE FAMILY HOUSE</td>\n",
       "      <td>DA19</td>\n",
       "    </tr>\n",
       "    <tr>\n",
       "      <th>5</th>\n",
       "      <td>201500002103724</td>\n",
       "      <td>11/01/2015  00:00</td>\n",
       "      <td>11/01/2015  15:21</td>\n",
       "      <td>DRUG OFFENSE</td>\n",
       "      <td>54XX W INDIAN SCHOOL RD</td>\n",
       "      <td>85031</td>\n",
       "      <td>APARTMENT</td>\n",
       "      <td>BH16</td>\n",
       "    </tr>\n",
       "    <tr>\n",
       "      <th>6</th>\n",
       "      <td>201500002102668</td>\n",
       "      <td>11/01/2015  00:00</td>\n",
       "      <td>11/01/2015  11:50</td>\n",
       "      <td>MOTOR VEHICLE THEFT</td>\n",
       "      <td>69XX W WOOD ST</td>\n",
       "      <td>85043</td>\n",
       "      <td>SINGLE FAMILY HOUSE</td>\n",
       "      <td>AF12</td>\n",
       "    </tr>\n",
       "    <tr>\n",
       "      <th>7</th>\n",
       "      <td>201500002101405</td>\n",
       "      <td>11/01/2015  00:00</td>\n",
       "      <td>11/01/2015  05:00</td>\n",
       "      <td>MOTOR VEHICLE THEFT</td>\n",
       "      <td>102XX W MEDLOCK AVE</td>\n",
       "      <td>85307</td>\n",
       "      <td>SINGLE FAMILY HOUSE</td>\n",
       "      <td>BJ04</td>\n",
       "    </tr>\n",
       "    <tr>\n",
       "      <th>8</th>\n",
       "      <td>201500002102327</td>\n",
       "      <td>11/01/2015  00:00</td>\n",
       "      <td>11/01/2015  09:00</td>\n",
       "      <td>LARCENY-THEFT</td>\n",
       "      <td>51XX N 15TH ST</td>\n",
       "      <td>85014</td>\n",
       "      <td>APARTMENT</td>\n",
       "      <td>BJ30</td>\n",
       "    </tr>\n",
       "    <tr>\n",
       "      <th>9</th>\n",
       "      <td>201600000594484</td>\n",
       "      <td>11/01/2015  00:00</td>\n",
       "      <td>NaN</td>\n",
       "      <td>RAPE</td>\n",
       "      <td>13XX E ALMERIA RD</td>\n",
       "      <td>85006</td>\n",
       "      <td>SINGLE FAMILY HOUSE</td>\n",
       "      <td>BD30</td>\n",
       "    </tr>\n",
       "  </tbody>\n",
       "</table>\n",
       "</div>"
      ],
      "text/plain": [
       "        INC NUMBER        OCCURRED ON        OCCURRED TO   UCR CRIME CATEGORY  \\\n",
       "0  201700001603695  11/01/2015  00:00  03/31/2016  00:00                 RAPE   \n",
       "1  201700001722914  11/01/2015  00:00                NaN        LARCENY-THEFT   \n",
       "2  201500002168686  11/01/2015  00:00  11/11/2015  09:30        LARCENY-THEFT   \n",
       "3  201600000527709  11/01/2015  00:00  03/22/2016  00:36        LARCENY-THEFT   \n",
       "4  201600000052855  11/01/2015  00:00  01/09/2016  00:00  MOTOR VEHICLE THEFT   \n",
       "5  201500002103724  11/01/2015  00:00  11/01/2015  15:21         DRUG OFFENSE   \n",
       "6  201500002102668  11/01/2015  00:00  11/01/2015  11:50  MOTOR VEHICLE THEFT   \n",
       "7  201500002101405  11/01/2015  00:00  11/01/2015  05:00  MOTOR VEHICLE THEFT   \n",
       "8  201500002102327  11/01/2015  00:00  11/01/2015  09:00        LARCENY-THEFT   \n",
       "9  201600000594484  11/01/2015  00:00                NaN                 RAPE   \n",
       "\n",
       "             100 BLOCK ADDR    ZIP         PREMISE TYPE  GRID  \n",
       "0       38XX W CAMELBACK RD  85019             HOSPITAL  BI20  \n",
       "1           279XX N 23RD LN  85085  SINGLE FAMILY HOUSE  FA23  \n",
       "2       14XX E HIGHLAND AVE  85014          PARKING LOT  BI30  \n",
       "3       33XX W CAMELBACK RD  85017          PARKING LOT  BJ21  \n",
       "4  N 43RD AVE & W CACTUS RD  85029  SINGLE FAMILY HOUSE  DA19  \n",
       "5   54XX W INDIAN SCHOOL RD  85031            APARTMENT  BH16  \n",
       "6            69XX W WOOD ST  85043  SINGLE FAMILY HOUSE  AF12  \n",
       "7       102XX W MEDLOCK AVE  85307  SINGLE FAMILY HOUSE  BJ04  \n",
       "8            51XX N 15TH ST  85014            APARTMENT  BJ30  \n",
       "9         13XX E ALMERIA RD  85006  SINGLE FAMILY HOUSE  BD30  "
      ]
     },
     "execution_count": 2,
     "metadata": {},
     "output_type": "execute_result"
    }
   ],
   "source": [
    "import pandas as pd\n",
    "\n",
    "# Specify the data types for the columns\n",
    "dtypes = {\n",
    "    'INC NUMBER': 'str',\n",
    "    'OCCURRED ON': 'str',\n",
    "    'OCCURRED TO': 'str',\n",
    "    'UCR CRIME CATEGORY': 'str',\n",
    "    '100 BLOCK ADDR': 'str',\n",
    "    'ZIP': 'float',\n",
    "    'PREMISE TYPE': 'str',\n",
    "    'GRID': 'str'\n",
    "}\n",
    "\n",
    "# Read the CSV file with specified data types\n",
    "crime_data = pd.read_csv('./Resources/Crime-data.csv', dtype=dtypes)\n",
    "\n",
    "# Drop rows with missing 'ZIP' values\n",
    "crime_data = crime_data.dropna(subset=['ZIP'])\n",
    "\n",
    "# Remove decimal points from the 'ZIP' column\n",
    "crime_data['ZIP'] = crime_data['ZIP'].astype(int)\n",
    "\n",
    "# Display the dataframe\n",
    "crime_data.head(10)"
   ]
  },
  {
   "cell_type": "code",
   "execution_count": 3,
   "metadata": {},
   "outputs": [
    {
     "data": {
      "text/html": [
       "<div>\n",
       "<style scoped>\n",
       "    .dataframe tbody tr th:only-of-type {\n",
       "        vertical-align: middle;\n",
       "    }\n",
       "\n",
       "    .dataframe tbody tr th {\n",
       "        vertical-align: top;\n",
       "    }\n",
       "\n",
       "    .dataframe thead th {\n",
       "        text-align: right;\n",
       "    }\n",
       "</style>\n",
       "<table border=\"1\" class=\"dataframe\">\n",
       "  <thead>\n",
       "    <tr style=\"text-align: right;\">\n",
       "      <th></th>\n",
       "      <th>ZIP</th>\n",
       "      <th>UCR CRIME CATEGORY</th>\n",
       "      <th>CRIME COUNT</th>\n",
       "    </tr>\n",
       "  </thead>\n",
       "  <tbody>\n",
       "    <tr>\n",
       "      <th>0</th>\n",
       "      <td>85003</td>\n",
       "      <td>AGGRAVATED ASSAULT</td>\n",
       "      <td>857</td>\n",
       "    </tr>\n",
       "    <tr>\n",
       "      <th>1</th>\n",
       "      <td>85003</td>\n",
       "      <td>ARSON</td>\n",
       "      <td>107</td>\n",
       "    </tr>\n",
       "    <tr>\n",
       "      <th>2</th>\n",
       "      <td>85003</td>\n",
       "      <td>BURGLARY</td>\n",
       "      <td>830</td>\n",
       "    </tr>\n",
       "    <tr>\n",
       "      <th>3</th>\n",
       "      <td>85003</td>\n",
       "      <td>DRUG OFFENSE</td>\n",
       "      <td>885</td>\n",
       "    </tr>\n",
       "    <tr>\n",
       "      <th>4</th>\n",
       "      <td>85003</td>\n",
       "      <td>LARCENY-THEFT</td>\n",
       "      <td>3951</td>\n",
       "    </tr>\n",
       "    <tr>\n",
       "      <th>5</th>\n",
       "      <td>85003</td>\n",
       "      <td>MOTOR VEHICLE THEFT</td>\n",
       "      <td>743</td>\n",
       "    </tr>\n",
       "    <tr>\n",
       "      <th>6</th>\n",
       "      <td>85003</td>\n",
       "      <td>MURDER AND NON-NEGLIGENT MANSLAUGHTER</td>\n",
       "      <td>18</td>\n",
       "    </tr>\n",
       "    <tr>\n",
       "      <th>7</th>\n",
       "      <td>85003</td>\n",
       "      <td>RAPE</td>\n",
       "      <td>328</td>\n",
       "    </tr>\n",
       "    <tr>\n",
       "      <th>8</th>\n",
       "      <td>85003</td>\n",
       "      <td>ROBBERY</td>\n",
       "      <td>320</td>\n",
       "    </tr>\n",
       "    <tr>\n",
       "      <th>9</th>\n",
       "      <td>85004</td>\n",
       "      <td>AGGRAVATED ASSAULT</td>\n",
       "      <td>769</td>\n",
       "    </tr>\n",
       "  </tbody>\n",
       "</table>\n",
       "</div>"
      ],
      "text/plain": [
       "     ZIP                     UCR CRIME CATEGORY  CRIME COUNT\n",
       "0  85003                     AGGRAVATED ASSAULT          857\n",
       "1  85003                                  ARSON          107\n",
       "2  85003                               BURGLARY          830\n",
       "3  85003                           DRUG OFFENSE          885\n",
       "4  85003                          LARCENY-THEFT         3951\n",
       "5  85003                    MOTOR VEHICLE THEFT          743\n",
       "6  85003  MURDER AND NON-NEGLIGENT MANSLAUGHTER           18\n",
       "7  85003                                   RAPE          328\n",
       "8  85003                                ROBBERY          320\n",
       "9  85004                     AGGRAVATED ASSAULT          769"
      ]
     },
     "execution_count": 3,
     "metadata": {},
     "output_type": "execute_result"
    }
   ],
   "source": [
    "#Create a dataframe that shows Zip Code, Types of Crime, and the number of crimes\n",
    "crime_data_grouped = crime_data.groupby(['ZIP', 'UCR CRIME CATEGORY']).size().reset_index(name='CRIME COUNT')\n",
    "crime_data_grouped.head(10)\n",
    "\n"
   ]
  },
  {
   "cell_type": "code",
   "execution_count": 4,
   "metadata": {},
   "outputs": [
    {
     "data": {
      "text/html": [
       "<div>\n",
       "<style scoped>\n",
       "    .dataframe tbody tr th:only-of-type {\n",
       "        vertical-align: middle;\n",
       "    }\n",
       "\n",
       "    .dataframe tbody tr th {\n",
       "        vertical-align: top;\n",
       "    }\n",
       "\n",
       "    .dataframe thead th {\n",
       "        text-align: right;\n",
       "    }\n",
       "</style>\n",
       "<table border=\"1\" class=\"dataframe\">\n",
       "  <thead>\n",
       "    <tr style=\"text-align: right;\">\n",
       "      <th></th>\n",
       "      <th>Zip</th>\n",
       "      <th>Total Crimes</th>\n",
       "    </tr>\n",
       "  </thead>\n",
       "  <tbody>\n",
       "    <tr>\n",
       "      <th>0</th>\n",
       "      <td>85015</td>\n",
       "      <td>28953</td>\n",
       "    </tr>\n",
       "    <tr>\n",
       "      <th>1</th>\n",
       "      <td>85008</td>\n",
       "      <td>27435</td>\n",
       "    </tr>\n",
       "    <tr>\n",
       "      <th>2</th>\n",
       "      <td>85051</td>\n",
       "      <td>25837</td>\n",
       "    </tr>\n",
       "    <tr>\n",
       "      <th>3</th>\n",
       "      <td>85009</td>\n",
       "      <td>25491</td>\n",
       "    </tr>\n",
       "    <tr>\n",
       "      <th>4</th>\n",
       "      <td>85041</td>\n",
       "      <td>24215</td>\n",
       "    </tr>\n",
       "    <tr>\n",
       "      <th>5</th>\n",
       "      <td>85017</td>\n",
       "      <td>22772</td>\n",
       "    </tr>\n",
       "    <tr>\n",
       "      <th>6</th>\n",
       "      <td>85035</td>\n",
       "      <td>21890</td>\n",
       "    </tr>\n",
       "    <tr>\n",
       "      <th>7</th>\n",
       "      <td>85043</td>\n",
       "      <td>20911</td>\n",
       "    </tr>\n",
       "    <tr>\n",
       "      <th>8</th>\n",
       "      <td>85021</td>\n",
       "      <td>19836</td>\n",
       "    </tr>\n",
       "    <tr>\n",
       "      <th>9</th>\n",
       "      <td>85029</td>\n",
       "      <td>18196</td>\n",
       "    </tr>\n",
       "  </tbody>\n",
       "</table>\n",
       "</div>"
      ],
      "text/plain": [
       "     Zip  Total Crimes\n",
       "0  85015         28953\n",
       "1  85008         27435\n",
       "2  85051         25837\n",
       "3  85009         25491\n",
       "4  85041         24215\n",
       "5  85017         22772\n",
       "6  85035         21890\n",
       "7  85043         20911\n",
       "8  85021         19836\n",
       "9  85029         18196"
      ]
     },
     "execution_count": 4,
     "metadata": {},
     "output_type": "execute_result"
    }
   ],
   "source": [
    "# Based on the crime_data_grouped dataframe, calculate the top 10 zip codes with the highest crime rate\n",
    "top_10_zips = crime_data_grouped.groupby(['ZIP'])['CRIME COUNT'].sum().reset_index()\n",
    "top_10_zips = top_10_zips.sort_values('CRIME COUNT', ascending=False).groupby('ZIP').head(10).reset_index(drop=True)\n",
    "top_10_zips = top_10_zips.rename(columns={'ZIP': 'Zip', 'CRIME COUNT': 'Total Crimes'})\n",
    "top_10_zips.head(10)"
   ]
  },
  {
   "cell_type": "code",
   "execution_count": 5,
   "metadata": {},
   "outputs": [
    {
     "data": {
      "text/html": [
       "<div>\n",
       "<style scoped>\n",
       "    .dataframe tbody tr th:only-of-type {\n",
       "        vertical-align: middle;\n",
       "    }\n",
       "\n",
       "    .dataframe tbody tr th {\n",
       "        vertical-align: top;\n",
       "    }\n",
       "\n",
       "    .dataframe thead th {\n",
       "        text-align: right;\n",
       "    }\n",
       "</style>\n",
       "<table border=\"1\" class=\"dataframe\">\n",
       "  <thead>\n",
       "    <tr style=\"text-align: right;\">\n",
       "      <th></th>\n",
       "      <th>Zip</th>\n",
       "      <th>Total Crimes</th>\n",
       "    </tr>\n",
       "  </thead>\n",
       "  <tbody>\n",
       "    <tr>\n",
       "      <th>0</th>\n",
       "      <td>85268</td>\n",
       "      <td>2</td>\n",
       "    </tr>\n",
       "    <tr>\n",
       "      <th>1</th>\n",
       "      <td>85337</td>\n",
       "      <td>2</td>\n",
       "    </tr>\n",
       "    <tr>\n",
       "      <th>2</th>\n",
       "      <td>85284</td>\n",
       "      <td>2</td>\n",
       "    </tr>\n",
       "    <tr>\n",
       "      <th>3</th>\n",
       "      <td>85340</td>\n",
       "      <td>2</td>\n",
       "    </tr>\n",
       "    <tr>\n",
       "      <th>4</th>\n",
       "      <td>85351</td>\n",
       "      <td>2</td>\n",
       "    </tr>\n",
       "    <tr>\n",
       "      <th>5</th>\n",
       "      <td>85242</td>\n",
       "      <td>2</td>\n",
       "    </tr>\n",
       "    <tr>\n",
       "      <th>6</th>\n",
       "      <td>85388</td>\n",
       "      <td>2</td>\n",
       "    </tr>\n",
       "    <tr>\n",
       "      <th>7</th>\n",
       "      <td>85374</td>\n",
       "      <td>2</td>\n",
       "    </tr>\n",
       "    <tr>\n",
       "      <th>8</th>\n",
       "      <td>85381</td>\n",
       "      <td>3</td>\n",
       "    </tr>\n",
       "    <tr>\n",
       "      <th>9</th>\n",
       "      <td>85248</td>\n",
       "      <td>3</td>\n",
       "    </tr>\n",
       "  </tbody>\n",
       "</table>\n",
       "</div>"
      ],
      "text/plain": [
       "     Zip  Total Crimes\n",
       "0  85268             2\n",
       "1  85337             2\n",
       "2  85284             2\n",
       "3  85340             2\n",
       "4  85351             2\n",
       "5  85242             2\n",
       "6  85388             2\n",
       "7  85374             2\n",
       "8  85381             3\n",
       "9  85248             3"
      ]
     },
     "execution_count": 5,
     "metadata": {},
     "output_type": "execute_result"
    }
   ],
   "source": [
    "# Based on the crime_data_grouped dataframe, calculate the Top 10 zip codes with the lowest crime rate\n",
    "bottom_10_zips = crime_data_grouped.groupby(['ZIP'])['CRIME COUNT'].sum().reset_index()\n",
    "bottom_10_zips = bottom_10_zips[bottom_10_zips['CRIME COUNT'] > 1]\n",
    "bottom_10_zips = bottom_10_zips.sort_values('CRIME COUNT', ascending=True).groupby('ZIP').head(10).reset_index(drop=True)\n",
    "bottom_10_zips = bottom_10_zips.rename(columns={'ZIP': 'Zip', 'CRIME COUNT': 'Total Crimes'})\n",
    "bottom_10_zips.head(10)"
   ]
  },
  {
   "cell_type": "markdown",
   "metadata": {},
   "source": [
    "# Top 10 Zip Codes with Highest Crime Rate"
   ]
  },
  {
   "cell_type": "code",
   "execution_count": 52,
   "metadata": {},
   "outputs": [
    {
     "data": {
      "image/png": "[encoded data removed]",
      "text/plain": [
       "<Figure size 1500x800 with 1 Axes>"
      ]
     },
     "metadata": {},
     "output_type": "display_data"
    }
   ],
   "source": [
    "import matplotlib.pyplot as plt\n",
    "\n",
    "# Create a graph that shows the number of crimes for each crime category in the Top 10 Zip Codes\n",
    "top_10_zip_codes = top_10_zips['Zip'].tolist()\n",
    "top_10_zip_codes_crime_data = crime_data[crime_data['ZIP'].isin(top_10_zip_codes[:10])]\n",
    "\n",
    "# Group the data by 'ZIP' and 'UCR CRIME CATEGORY'\n",
    "top_10_zip_codes_grouped = top_10_zip_codes_crime_data.groupby(['ZIP', 'UCR CRIME CATEGORY']).size().reset_index(name='CRIME COUNT')\n",
    "\n",
    "# Plot the number of crimes for each crime category in the Top 10 Zip Codes\n",
    "plt.figure(figsize=(15, 8))\n",
    "for zip_code in top_10_zip_codes_grouped['ZIP'].unique():\n",
    "    data = top_10_zip_codes_grouped[top_10_zip_codes_grouped['ZIP'] == zip_code]\n",
    "    plt.plot(data['UCR CRIME CATEGORY'], data['CRIME COUNT'], label=f'Zip Code: {zip_code}')\n",
    "\n",
    "plt.title('Number of Crimes for Each Crime Category in the Top 10 Zip Codes')\n",
    "plt.xlabel('Crime Category')\n",
    "plt.ylabel('Number of Crimes')\n",
    "plt.xticks(rotation=45)\n",
    "plt.legend(title='Zip Code', loc='upper right')\n",
    "plt.tight_layout()\n",
    "\n",
    "# Save the plot as an image file\n",
    "plt.savefig('./Resources/Top_10_Zip_Codes_Crime_Categories.png')\n",
    "\n",
    "# Show the plot\n",
    "plt.show()"
   ]
  },
  {
   "cell_type": "markdown",
   "metadata": {},
   "source": [
    "Analysis: "
   ]
  },
  {
   "cell_type": "code",
   "execution_count": 37,
   "metadata": {},
   "outputs": [
    {
     "data": {
      "application/vnd.plotly.v1+json": {
       "config": {
        "plotlyServerURL": "https://plot.ly"
       },
       "data": [
        {
         "hovertemplate": "Zip Code=85008<br>Type of Crime=%{x}<br>Total Crimes=%{y}<extra></extra>",
         "legendgroup": "85008",
         "line": {
          "color": "#636efa",
          "dash": "solid",
          "width": 2
         },
         "marker": {
          "symbol": "circle"
         },
         "mode": "lines+markers",
         "name": "85008",
         "orientation": "v",
         "showlegend": true,
         "type": "scatter",
         "x": [
          "AGGRAVATED ASSAULT",
          "ARSON",
          "BURGLARY",
          "DRUG OFFENSE",
          "LARCENY-THEFT",
          "MOTOR VEHICLE THEFT",
          "MURDER AND NON-NEGLIGENT MANSLAUGHTER",
          "RAPE",
          "ROBBERY"
         ],
         "xaxis": "x",
         "y": [
          2772,
          292,
          2754,
          3021,
          13966,
          2861,
          76,
          541,
          1152
         ],
         "yaxis": "y"
        },
        {
         "hovertemplate": "Zip Code=85009<br>Type of Crime=%{x}<br>Total Crimes=%{y}<extra></extra>",
         "legendgroup": "85009",
         "line": {
          "color": "#EF553B",
          "dash": "solid",
          "width": 2
         },
         "marker": {
          "symbol": "circle"
         },
         "mode": "lines+markers",
         "name": "85009",
         "orientation": "v",
         "showlegend": true,
         "type": "scatter",
         "x": [
          "AGGRAVATED ASSAULT",
          "ARSON",
          "BURGLARY",
          "DRUG OFFENSE",
          "LARCENY-THEFT",
          "MOTOR VEHICLE THEFT",
          "MURDER AND NON-NEGLIGENT MANSLAUGHTER",
          "RAPE",
          "ROBBERY"
         ],
         "xaxis": "x",
         "y": [
          2741,
          331,
          2932,
          3230,
          10570,
          3961,
          84,
          332,
          1310
         ],
         "yaxis": "y"
        },
        {
         "hovertemplate": "Zip Code=85015<br>Type of Crime=%{x}<br>Total Crimes=%{y}<extra></extra>",
         "legendgroup": "85015",
         "line": {
          "color": "#00cc96",
          "dash": "solid",
          "width": 2
         },
         "marker": {
          "symbol": "circle"
         },
         "mode": "lines+markers",
         "name": "85015",
         "orientation": "v",
         "showlegend": true,
         "type": "scatter",
         "x": [
          "AGGRAVATED ASSAULT",
          "ARSON",
          "BURGLARY",
          "DRUG OFFENSE",
          "LARCENY-THEFT",
          "MOTOR VEHICLE THEFT",
          "MURDER AND NON-NEGLIGENT MANSLAUGHTER",
          "RAPE",
          "ROBBERY"
         ],
         "xaxis": "x",
         "y": [
          2791,
          268,
          3237,
          3137,
          14865,
          2807,
          67,
          365,
          1416
         ],
         "yaxis": "y"
        },
        {
         "hovertemplate": "Zip Code=85017<br>Type of Crime=%{x}<br>Total Crimes=%{y}<extra></extra>",
         "legendgroup": "85017",
         "line": {
          "color": "#ab63fa",
          "dash": "solid",
          "width": 2
         },
         "marker": {
          "symbol": "circle"
         },
         "mode": "lines+markers",
         "name": "85017",
         "orientation": "v",
         "showlegend": true,
         "type": "scatter",
         "x": [
          "AGGRAVATED ASSAULT",
          "ARSON",
          "BURGLARY",
          "DRUG OFFENSE",
          "LARCENY-THEFT",
          "MOTOR VEHICLE THEFT",
          "MURDER AND NON-NEGLIGENT MANSLAUGHTER",
          "RAPE",
          "ROBBERY"
         ],
         "xaxis": "x",
         "y": [
          2720,
          230,
          2616,
          3297,
          9322,
          2579,
          95,
          397,
          1516
         ],
         "yaxis": "y"
        },
        {
         "hovertemplate": "Zip Code=85021<br>Type of Crime=%{x}<br>Total Crimes=%{y}<extra></extra>",
         "legendgroup": "85021",
         "line": {
          "color": "#FFA15A",
          "dash": "solid",
          "width": 2
         },
         "marker": {
          "symbol": "circle"
         },
         "mode": "lines+markers",
         "name": "85021",
         "orientation": "v",
         "showlegend": true,
         "type": "scatter",
         "x": [
          "AGGRAVATED ASSAULT",
          "ARSON",
          "BURGLARY",
          "DRUG OFFENSE",
          "LARCENY-THEFT",
          "MOTOR VEHICLE THEFT",
          "MURDER AND NON-NEGLIGENT MANSLAUGHTER",
          "RAPE",
          "ROBBERY"
         ],
         "xaxis": "x",
         "y": [
          2142,
          170,
          2760,
          2677,
          9023,
          2046,
          50,
          261,
          707
         ],
         "yaxis": "y"
        },
        {
         "hovertemplate": "Zip Code=85029<br>Type of Crime=%{x}<br>Total Crimes=%{y}<extra></extra>",
         "legendgroup": "85029",
         "line": {
          "color": "#19d3f3",
          "dash": "solid",
          "width": 2
         },
         "marker": {
          "symbol": "circle"
         },
         "mode": "lines+markers",
         "name": "85029",
         "orientation": "v",
         "showlegend": true,
         "type": "scatter",
         "x": [
          "AGGRAVATED ASSAULT",
          "ARSON",
          "BURGLARY",
          "DRUG OFFENSE",
          "LARCENY-THEFT",
          "MOTOR VEHICLE THEFT",
          "MURDER AND NON-NEGLIGENT MANSLAUGHTER",
          "RAPE",
          "ROBBERY"
         ],
         "xaxis": "x",
         "y": [
          1746,
          153,
          2178,
          2114,
          9024,
          2072,
          43,
          279,
          587
         ],
         "yaxis": "y"
        },
        {
         "hovertemplate": "Zip Code=85035<br>Type of Crime=%{x}<br>Total Crimes=%{y}<extra></extra>",
         "legendgroup": "85035",
         "line": {
          "color": "#FF6692",
          "dash": "solid",
          "width": 2
         },
         "marker": {
          "symbol": "circle"
         },
         "mode": "lines+markers",
         "name": "85035",
         "orientation": "v",
         "showlegend": true,
         "type": "scatter",
         "x": [
          "AGGRAVATED ASSAULT",
          "ARSON",
          "BURGLARY",
          "DRUG OFFENSE",
          "LARCENY-THEFT",
          "MOTOR VEHICLE THEFT",
          "MURDER AND NON-NEGLIGENT MANSLAUGHTER",
          "RAPE",
          "ROBBERY"
         ],
         "xaxis": "x",
         "y": [
          1924,
          154,
          2218,
          2334,
          10852,
          3076,
          74,
          192,
          1066
         ],
         "yaxis": "y"
        },
        {
         "hovertemplate": "Zip Code=85041<br>Type of Crime=%{x}<br>Total Crimes=%{y}<extra></extra>",
         "legendgroup": "85041",
         "line": {
          "color": "#B6E880",
          "dash": "solid",
          "width": 2
         },
         "marker": {
          "symbol": "circle"
         },
         "mode": "lines+markers",
         "name": "85041",
         "orientation": "v",
         "showlegend": true,
         "type": "scatter",
         "x": [
          "AGGRAVATED ASSAULT",
          "ARSON",
          "BURGLARY",
          "DRUG OFFENSE",
          "LARCENY-THEFT",
          "MOTOR VEHICLE THEFT",
          "MURDER AND NON-NEGLIGENT MANSLAUGHTER",
          "RAPE",
          "ROBBERY"
         ],
         "xaxis": "x",
         "y": [
          2380,
          235,
          3123,
          1654,
          12329,
          3250,
          81,
          270,
          893
         ],
         "yaxis": "y"
        },
        {
         "hovertemplate": "Zip Code=85043<br>Type of Crime=%{x}<br>Total Crimes=%{y}<extra></extra>",
         "legendgroup": "85043",
         "line": {
          "color": "#FF97FF",
          "dash": "solid",
          "width": 2
         },
         "marker": {
          "symbol": "circle"
         },
         "mode": "lines+markers",
         "name": "85043",
         "orientation": "v",
         "showlegend": true,
         "type": "scatter",
         "x": [
          "AGGRAVATED ASSAULT",
          "ARSON",
          "BURGLARY",
          "DRUG OFFENSE",
          "LARCENY-THEFT",
          "MOTOR VEHICLE THEFT",
          "MURDER AND NON-NEGLIGENT MANSLAUGHTER",
          "RAPE",
          "ROBBERY"
         ],
         "xaxis": "x",
         "y": [
          1998,
          150,
          2368,
          2152,
          9677,
          3491,
          57,
          247,
          771
         ],
         "yaxis": "y"
        },
        {
         "hovertemplate": "Zip Code=85051<br>Type of Crime=%{x}<br>Total Crimes=%{y}<extra></extra>",
         "legendgroup": "85051",
         "line": {
          "color": "#FECB52",
          "dash": "solid",
          "width": 2
         },
         "marker": {
          "symbol": "circle"
         },
         "mode": "lines+markers",
         "name": "85051",
         "orientation": "v",
         "showlegend": true,
         "type": "scatter",
         "x": [
          "AGGRAVATED ASSAULT",
          "ARSON",
          "BURGLARY",
          "DRUG OFFENSE",
          "LARCENY-THEFT",
          "MOTOR VEHICLE THEFT",
          "MURDER AND NON-NEGLIGENT MANSLAUGHTER",
          "RAPE",
          "ROBBERY"
         ],
         "xaxis": "x",
         "y": [
          2435,
          255,
          3061,
          3095,
          12739,
          2682,
          60,
          377,
          1133
         ],
         "yaxis": "y"
        }
       ],
       "layout": {
        "legend": {
         "title": {
          "text": "Zip Code"
         },
         "tracegroupgap": 0
        },
        "template": {
         "data": {
          "bar": [
           {
            "error_x": {
             "color": "#2a3f5f"
            },
            "error_y": {
             "color": "#2a3f5f"
            },
            "marker": {
             "line": {
              "color": "#E5ECF6",
              "width": 0.5
             },
             "pattern": {
              "fillmode": "overlay",
              "size": 10,
              "solidity": 0.2
             }
            },
            "type": "bar"
           }
          ],
          "barpolar": [
           {
            "marker": {
             "line": {
              "color": "#E5ECF6",
              "width": 0.5
             },
             "pattern": {
              "fillmode": "overlay",
              "size": 10,
              "solidity": 0.2
             }
            },
            "type": "barpolar"
           }
          ],
          "carpet": [
           {
            "aaxis": {
             "endlinecolor": "#2a3f5f",
             "gridcolor": "white",
             "linecolor": "white",
             "minorgridcolor": "white",
             "startlinecolor": "#2a3f5f"
            },
            "baxis": {
             "endlinecolor": "#2a3f5f",
             "gridcolor": "white",
             "linecolor": "white",
             "minorgridcolor": "white",
             "startlinecolor": "#2a3f5f"
            },
            "type": "carpet"
           }
          ],
          "choropleth": [
           {
            "colorbar": {
             "outlinewidth": 0,
             "ticks": ""
            },
            "type": "choropleth"
           }
          ],
          "contour": [
           {
            "colorbar": {
             "outlinewidth": 0,
             "ticks": ""
            },
            "colorscale": [
             [
              0,
              "#0d0887"
             ],
             [
              0.1111111111111111,
              "#46039f"
             ],
             [
              0.2222222222222222,
              "#7201a8"
             ],
             [
              0.3333333333333333,
              "#9c179e"
             ],
             [
              0.4444444444444444,
              "#bd3786"
             ],
             [
              0.5555555555555556,
              "#d8576b"
             ],
             [
              0.6666666666666666,
              "#ed7953"
             ],
             [
              0.7777777777777778,
              "#fb9f3a"
             ],
             [
              0.8888888888888888,
              "#fdca26"
             ],
             [
              1,
              "#f0f921"
             ]
            ],
            "type": "contour"
           }
          ],
          "contourcarpet": [
           {
            "colorbar": {
             "outlinewidth": 0,
             "ticks": ""
            },
            "type": "contourcarpet"
           }
          ],
          "heatmap": [
           {
            "colorbar": {
             "outlinewidth": 0,
             "ticks": ""
            },
            "colorscale": [
             [
              0,
              "#0d0887"
             ],
             [
              0.1111111111111111,
              "#46039f"
             ],
             [
              0.2222222222222222,
              "#7201a8"
             ],
             [
              0.3333333333333333,
              "#9c179e"
             ],
             [
              0.4444444444444444,
              "#bd3786"
             ],
             [
              0.5555555555555556,
              "#d8576b"
             ],
             [
              0.6666666666666666,
              "#ed7953"
             ],
             [
              0.7777777777777778,
              "#fb9f3a"
             ],
             [
              0.8888888888888888,
              "#fdca26"
             ],
             [
              1,
              "#f0f921"
             ]
            ],
            "type": "heatmap"
           }
          ],
          "heatmapgl": [
           {
            "colorbar": {
             "outlinewidth": 0,
             "ticks": ""
            },
            "colorscale": [
             [
              0,
              "#0d0887"
             ],
             [
              0.1111111111111111,
              "#46039f"
             ],
             [
              0.2222222222222222,
              "#7201a8"
             ],
             [
              0.3333333333333333,
              "#9c179e"
             ],
             [
              0.4444444444444444,
              "#bd3786"
             ],
             [
              0.5555555555555556,
              "#d8576b"
             ],
             [
              0.6666666666666666,
              "#ed7953"
             ],
             [
              0.7777777777777778,
              "#fb9f3a"
             ],
             [
              0.8888888888888888,
              "#fdca26"
             ],
             [
              1,
              "#f0f921"
             ]
            ],
            "type": "heatmapgl"
           }
          ],
          "histogram": [
           {
            "marker": {
             "pattern": {
              "fillmode": "overlay",
              "size": 10,
              "solidity": 0.2
             }
            },
            "type": "histogram"
           }
          ],
          "histogram2d": [
           {
            "colorbar": {
             "outlinewidth": 0,
             "ticks": ""
            },
            "colorscale": [
             [
              0,
              "#0d0887"
             ],
             [
              0.1111111111111111,
              "#46039f"
             ],
             [
              0.2222222222222222,
              "#7201a8"
             ],
             [
              0.3333333333333333,
              "#9c179e"
             ],
             [
              0.4444444444444444,
              "#bd3786"
             ],
             [
              0.5555555555555556,
              "#d8576b"
             ],
             [
              0.6666666666666666,
              "#ed7953"
             ],
             [
              0.7777777777777778,
              "#fb9f3a"
             ],
             [
              0.8888888888888888,
              "#fdca26"
             ],
             [
              1,
              "#f0f921"
             ]
            ],
            "type": "histogram2d"
           }
          ],
          "histogram2dcontour": [
           {
            "colorbar": {
             "outlinewidth": 0,
             "ticks": ""
            },
            "colorscale": [
             [
              0,
              "#0d0887"
             ],
             [
              0.1111111111111111,
              "#46039f"
             ],
             [
              0.2222222222222222,
              "#7201a8"
             ],
             [
              0.3333333333333333,
              "#9c179e"
             ],
             [
              0.4444444444444444,
              "#bd3786"
             ],
             [
              0.5555555555555556,
              "#d8576b"
             ],
             [
              0.6666666666666666,
              "#ed7953"
             ],
             [
              0.7777777777777778,
              "#fb9f3a"
             ],
             [
              0.8888888888888888,
              "#fdca26"
             ],
             [
              1,
              "#f0f921"
             ]
            ],
            "type": "histogram2dcontour"
           }
          ],
          "mesh3d": [
           {
            "colorbar": {
             "outlinewidth": 0,
             "ticks": ""
            },
            "type": "mesh3d"
           }
          ],
          "parcoords": [
           {
            "line": {
             "colorbar": {
              "outlinewidth": 0,
              "ticks": ""
             }
            },
            "type": "parcoords"
           }
          ],
          "pie": [
           {
            "automargin": true,
            "type": "pie"
           }
          ],
          "scatter": [
           {
            "fillpattern": {
             "fillmode": "overlay",
             "size": 10,
             "solidity": 0.2
            },
            "type": "scatter"
           }
          ],
          "scatter3d": [
           {
            "line": {
             "colorbar": {
              "outlinewidth": 0,
              "ticks": ""
             }
            },
            "marker": {
             "colorbar": {
              "outlinewidth": 0,
              "ticks": ""
             }
            },
            "type": "scatter3d"
           }
          ],
          "scattercarpet": [
           {
            "marker": {
             "colorbar": {
              "outlinewidth": 0,
              "ticks": ""
             }
            },
            "type": "scattercarpet"
           }
          ],
          "scattergeo": [
           {
            "marker": {
             "colorbar": {
              "outlinewidth": 0,
              "ticks": ""
             }
            },
            "type": "scattergeo"
           }
          ],
          "scattergl": [
           {
            "marker": {
             "colorbar": {
              "outlinewidth": 0,
              "ticks": ""
             }
            },
            "type": "scattergl"
           }
          ],
          "scattermapbox": [
           {
            "marker": {
             "colorbar": {
              "outlinewidth": 0,
              "ticks": ""
             }
            },
            "type": "scattermapbox"
           }
          ],
          "scatterpolar": [
           {
            "marker": {
             "colorbar": {
              "outlinewidth": 0,
              "ticks": ""
             }
            },
            "type": "scatterpolar"
           }
          ],
          "scatterpolargl": [
           {
            "marker": {
             "colorbar": {
              "outlinewidth": 0,
              "ticks": ""
             }
            },
            "type": "scatterpolargl"
           }
          ],
          "scatterternary": [
           {
            "marker": {
             "colorbar": {
              "outlinewidth": 0,
              "ticks": ""
             }
            },
            "type": "scatterternary"
           }
          ],
          "surface": [
           {
            "colorbar": {
             "outlinewidth": 0,
             "ticks": ""
            },
            "colorscale": [
             [
              0,
              "#0d0887"
             ],
             [
              0.1111111111111111,
              "#46039f"
             ],
             [
              0.2222222222222222,
              "#7201a8"
             ],
             [
              0.3333333333333333,
              "#9c179e"
             ],
             [
              0.4444444444444444,
              "#bd3786"
             ],
             [
              0.5555555555555556,
              "#d8576b"
             ],
             [
              0.6666666666666666,
              "#ed7953"
             ],
             [
              0.7777777777777778,
              "#fb9f3a"
             ],
             [
              0.8888888888888888,
              "#fdca26"
             ],
             [
              1,
              "#f0f921"
             ]
            ],
            "type": "surface"
           }
          ],
          "table": [
           {
            "cells": {
             "fill": {
              "color": "#EBF0F8"
             },
             "line": {
              "color": "white"
             }
            },
            "header": {
             "fill": {
              "color": "#C8D4E3"
             },
             "line": {
              "color": "white"
             }
            },
            "type": "table"
           }
          ]
         },
         "layout": {
          "annotationdefaults": {
           "arrowcolor": "#2a3f5f",
           "arrowhead": 0,
           "arrowwidth": 1
          },
          "autotypenumbers": "strict",
          "coloraxis": {
           "colorbar": {
            "outlinewidth": 0,
            "ticks": ""
           }
          },
          "colorscale": {
           "diverging": [
            [
             0,
             "#8e0152"
            ],
            [
             0.1,
             "#c51b7d"
            ],
            [
             0.2,
             "#de77ae"
            ],
            [
             0.3,
             "#f1b6da"
            ],
            [
             0.4,
             "#fde0ef"
            ],
            [
             0.5,
             "#f7f7f7"
            ],
            [
             0.6,
             "#e6f5d0"
            ],
            [
             0.7,
             "#b8e186"
            ],
            [
             0.8,
             "#7fbc41"
            ],
            [
             0.9,
             "#4d9221"
            ],
            [
             1,
             "#276419"
            ]
           ],
           "sequential": [
            [
             0,
             "#0d0887"
            ],
            [
             0.1111111111111111,
             "#46039f"
            ],
            [
             0.2222222222222222,
             "#7201a8"
            ],
            [
             0.3333333333333333,
             "#9c179e"
            ],
            [
             0.4444444444444444,
             "#bd3786"
            ],
            [
             0.5555555555555556,
             "#d8576b"
            ],
            [
             0.6666666666666666,
             "#ed7953"
            ],
            [
             0.7777777777777778,
             "#fb9f3a"
            ],
            [
             0.8888888888888888,
             "#fdca26"
            ],
            [
             1,
             "#f0f921"
            ]
           ],
           "sequentialminus": [
            [
             0,
             "#0d0887"
            ],
            [
             0.1111111111111111,
             "#46039f"
            ],
            [
             0.2222222222222222,
             "#7201a8"
            ],
            [
             0.3333333333333333,
             "#9c179e"
            ],
            [
             0.4444444444444444,
             "#bd3786"
            ],
            [
             0.5555555555555556,
             "#d8576b"
            ],
            [
             0.6666666666666666,
             "#ed7953"
            ],
            [
             0.7777777777777778,
             "#fb9f3a"
            ],
            [
             0.8888888888888888,
             "#fdca26"
            ],
            [
             1,
             "#f0f921"
            ]
           ]
          },
          "colorway": [
           "#636efa",
           "#EF553B",
           "#00cc96",
           "#ab63fa",
           "#FFA15A",
           "#19d3f3",
           "#FF6692",
           "#B6E880",
           "#FF97FF",
           "#FECB52"
          ],
          "font": {
           "color": "#2a3f5f"
          },
          "geo": {
           "bgcolor": "white",
           "lakecolor": "white",
           "landcolor": "#E5ECF6",
           "showlakes": true,
           "showland": true,
           "subunitcolor": "white"
          },
          "hoverlabel": {
           "align": "left"
          },
          "hovermode": "closest",
          "mapbox": {
           "style": "light"
          },
          "paper_bgcolor": "white",
          "plot_bgcolor": "#E5ECF6",
          "polar": {
           "angularaxis": {
            "gridcolor": "white",
            "linecolor": "white",
            "ticks": ""
           },
           "bgcolor": "#E5ECF6",
           "radialaxis": {
            "gridcolor": "white",
            "linecolor": "white",
            "ticks": ""
           }
          },
          "scene": {
           "xaxis": {
            "backgroundcolor": "#E5ECF6",
            "gridcolor": "white",
            "gridwidth": 2,
            "linecolor": "white",
            "showbackground": true,
            "ticks": "",
            "zerolinecolor": "white"
           },
           "yaxis": {
            "backgroundcolor": "#E5ECF6",
            "gridcolor": "white",
            "gridwidth": 2,
            "linecolor": "white",
            "showbackground": true,
            "ticks": "",
            "zerolinecolor": "white"
           },
           "zaxis": {
            "backgroundcolor": "#E5ECF6",
            "gridcolor": "white",
            "gridwidth": 2,
            "linecolor": "white",
            "showbackground": true,
            "ticks": "",
            "zerolinecolor": "white"
           }
          },
          "shapedefaults": {
           "line": {
            "color": "#2a3f5f"
           }
          },
          "ternary": {
           "aaxis": {
            "gridcolor": "white",
            "linecolor": "white",
            "ticks": ""
           },
           "baxis": {
            "gridcolor": "white",
            "linecolor": "white",
            "ticks": ""
           },
           "bgcolor": "#E5ECF6",
           "caxis": {
            "gridcolor": "white",
            "linecolor": "white",
            "ticks": ""
           }
          },
          "title": {
           "x": 0.05
          },
          "xaxis": {
           "automargin": true,
           "gridcolor": "white",
           "linecolor": "white",
           "ticks": "",
           "title": {
            "standoff": 15
           },
           "zerolinecolor": "white",
           "zerolinewidth": 2
          },
          "yaxis": {
           "automargin": true,
           "gridcolor": "white",
           "linecolor": "white",
           "ticks": "",
           "title": {
            "standoff": 15
           },
           "zerolinecolor": "white",
           "zerolinewidth": 2
          }
         }
        },
        "title": {
         "text": "Number of Crimes for Each Crime Category in the Top 10 Zip Codes"
        },
        "xaxis": {
         "anchor": "y",
         "domain": [
          0,
          1
         ],
         "title": {
          "text": "Type of Crime"
         }
        },
        "yaxis": {
         "anchor": "x",
         "domain": [
          0,
          1
         ],
         "title": {
          "text": "Total Crimes"
         }
        }
       }
      }
     },
     "metadata": {},
     "output_type": "display_data"
    }
   ],
   "source": [
    "import plotly.express as px\n",
    "\n",
    "# Create a line plot\n",
    "fig = px.line(top_10_zip_codes_grouped,\n",
    "              x='UCR CRIME CATEGORY',  # Set the x-axis to the crime category\n",
    "              y='CRIME COUNT',         # Set the y-axis to the crime count\n",
    "              color='ZIP',             # Differentiate lines by ZIP code\n",
    "              title='Number of Crimes for Each Crime Category in the Top 10 Zip Codes',  # Set the title of the plot\n",
    "              labels={'UCR CRIME CATEGORY': 'Type of Crime', 'CRIME COUNT': 'Total Crimes', 'ZIP': 'Zip Code'},  # Set axis labels\n",
    "              markers=True)            # Add markers to the lines\n",
    "\n",
    "# Set the color palette for the plot\n",
    "colors = px.colors.qualitative.Plotly\n",
    "\n",
    "# Update the line width for better visibility\n",
    "fig.update_traces(line=dict(width=2))\n",
    "\n",
    "\n",
    "# Display the plot\n",
    "fig.show()"
   ]
  },
  {
   "cell_type": "code",
   "execution_count": 51,
   "metadata": {},
   "outputs": [
    {
     "data": {
      "image/png": "[encoded data removed]",
      "text/plain": [
       "<Figure size 1000x600 with 1 Axes>"
      ]
     },
     "metadata": {},
     "output_type": "display_data"
    }
   ],
   "source": [
    "# Ensure the ZIP column does not have decimals\n",
    "top_10_zips.loc[:, 'Zip'] = top_10_zips['Zip'].astype(int)\n",
    "\n",
    "# Filter to include only the top 10 zip codes\n",
    "top_10_zips_filtered = top_10_zips.head(10)\n",
    "\n",
    "# Sort the dataframe by 'Total Crimes' in descending order\n",
    "top_10_zips_filtered = top_10_zips_filtered.sort_values(by='Total Crimes', ascending=False)\n",
    "\n",
    "# Create a bar chart of the total crimes across the top 10 zip codes\n",
    "plt.figure(figsize=(10, 6))\n",
    "\n",
    "# Use the index of the sorted DataFrame to define the order of the bars\n",
    "bars = plt.bar(top_10_zips_filtered.index, top_10_zips_filtered['Total Crimes'])\n",
    "\n",
    "plt.title('Distribution of Total Crimes Across Top 10 Zip Codes')\n",
    "plt.xlabel('Zip Code')\n",
    "plt.ylabel('Total Crimes')\n",
    "\n",
    "# Use the sorted Zip values for x-axis labels\n",
    "plt.xticks(top_10_zips_filtered.index, top_10_zips_filtered['Zip'], rotation=45)\n",
    "\n",
    "# Add text annotations to show the total at the top of each bar\n",
    "for bar in bars:\n",
    "    yval = bar.get_height()\n",
    "    plt.text(bar.get_x() + bar.get_width() / 2, yval, int(yval), ha='center', va='bottom')\n",
    "\n",
    "plt.tight_layout()\n",
    "\n",
    "# Save the plot as an image file\n",
    "plt.savefig('./Resources/Top_10_Zip_Codes_Crime_Distribution.png')\n",
    "\n",
    "# Show the plot\n",
    "plt.show()"
   ]
  },
  {
   "cell_type": "code",
   "execution_count": null,
   "metadata": {},
   "outputs": [],
   "source": []
  }
 ],
 "metadata": {
  "kernelspec": {
   "display_name": "dev",
   "language": "python",
   "name": "python3"
  },
  "language_info": {
   "codemirror_mode": {
    "name": "ipython",
    "version": 3
   },
   "file_extension": ".py",
   "mimetype": "text/x-python",
   "name": "python",
   "nbconvert_exporter": "python",
   "pygments_lexer": "ipython3",
   "version": "3.10.16"
  }
 },
 "nbformat": 4,
 "nbformat_minor": 2
}
